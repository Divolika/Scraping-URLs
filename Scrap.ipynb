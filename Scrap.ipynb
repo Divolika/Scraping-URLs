{
  "nbformat": 4,
  "nbformat_minor": 0,
  "metadata": {
    "colab": {
      "provenance": []
    },
    "kernelspec": {
      "name": "python3",
      "display_name": "Python 3"
    },
    "language_info": {
      "name": "python"
    }
  },
  "cells": [
    {
      "cell_type": "code",
      "execution_count": 3,
      "metadata": {
        "id": "bpJTfKiILLXh",
        "colab": {
          "base_uri": "https://localhost:8080/",
          "height": 52
        },
        "outputId": "30cd455e-6f98-4b2e-9a9d-4a1e8b0523ce"
      },
      "outputs": [
        {
          "name": "stdout",
          "output_type": "stream",
          "text": [
            "Enter your search query: Swiftsafe\n",
            "Enter the number of search results/pages to scrape: 10\n"
          ]
        },
        {
          "output_type": "display_data",
          "data": {
            "text/plain": [
              "<IPython.core.display.Javascript object>"
            ],
            "application/javascript": [
              "\n",
              "    async function download(id, filename, size) {\n",
              "      if (!google.colab.kernel.accessAllowed) {\n",
              "        return;\n",
              "      }\n",
              "      const div = document.createElement('div');\n",
              "      const label = document.createElement('label');\n",
              "      label.textContent = `Downloading \"${filename}\": `;\n",
              "      div.appendChild(label);\n",
              "      const progress = document.createElement('progress');\n",
              "      progress.max = size;\n",
              "      div.appendChild(progress);\n",
              "      document.body.appendChild(div);\n",
              "\n",
              "      const buffers = [];\n",
              "      let downloaded = 0;\n",
              "\n",
              "      const channel = await google.colab.kernel.comms.open(id);\n",
              "      // Send a message to notify the kernel that we're ready.\n",
              "      channel.send({})\n",
              "\n",
              "      for await (const message of channel.messages) {\n",
              "        // Send a message to notify the kernel that we're ready.\n",
              "        channel.send({})\n",
              "        if (message.buffers) {\n",
              "          for (const buffer of message.buffers) {\n",
              "            buffers.push(buffer);\n",
              "            downloaded += buffer.byteLength;\n",
              "            progress.value = downloaded;\n",
              "          }\n",
              "        }\n",
              "      }\n",
              "      const blob = new Blob(buffers, {type: 'application/binary'});\n",
              "      const a = document.createElement('a');\n",
              "      a.href = window.URL.createObjectURL(blob);\n",
              "      a.download = filename;\n",
              "      div.appendChild(a);\n",
              "      a.click();\n",
              "      div.remove();\n",
              "    }\n",
              "  "
            ]
          },
          "metadata": {}
        },
        {
          "output_type": "display_data",
          "data": {
            "text/plain": [
              "<IPython.core.display.Javascript object>"
            ],
            "application/javascript": [
              "download(\"download_593c3f29-77d0-474d-8eac-869b55580bcb\", \"scraped_results.txt\", 36227)"
            ]
          },
          "metadata": {}
        }
      ],
      "source": [
        "import requests\n",
        "from bs4 import BeautifulSoup\n",
        "from urllib.parse import urlparse\n",
        "from google.colab import files\n",
        "\n",
        "def scrape_google(query):\n",
        "    # Google search URL\n",
        "    url = f\"https://www.google.com/search?q={query}\"\n",
        "\n",
        "    # Sending a GET request to the Google search URL\n",
        "    response = requests.get(url)\n",
        "\n",
        "    # Parsing the response content using BeautifulSoup\n",
        "    soup = BeautifulSoup(response.text, 'html.parser')\n",
        "\n",
        "    # Extracting all search result links\n",
        "    search_results = soup.find_all('a', href=True)\n",
        "\n",
        "    # Extracting URLs from search results\n",
        "    urls = []\n",
        "    for link in search_results:\n",
        "        url = link['href']\n",
        "        if url.startswith('/url?q='):\n",
        "            urls.append(url[7:])\n",
        "\n",
        "    return urls\n",
        "\n",
        "def scrape_individual_page(url):\n",
        "    # Sending a GET request to the individual URL\n",
        "    response = requests.get(url)\n",
        "\n",
        "    # Parsing the response content using BeautifulSoup\n",
        "    soup = BeautifulSoup(response.text, 'html.parser')\n",
        "\n",
        "    # Scraping data from the individual page\n",
        "    title_element = soup.find('title')\n",
        "    if title_element:\n",
        "        title = title_element.get_text()\n",
        "    else:\n",
        "        title = \"No title found\"\n",
        "\n",
        "    paragraphs = soup.find_all('p')\n",
        "    text_content = '\\n'.join([p.get_text() for p in paragraphs])\n",
        "\n",
        "    return {'title': title, 'content': text_content}\n",
        "\n",
        "def main():\n",
        "    query = input(\"Enter your search query: \")\n",
        "    num_pages = int(input(\"Enter the number of search results/pages to scrape: \"))\n",
        "\n",
        "    all_data = []\n",
        "\n",
        "    # Scrape Google search results\n",
        "    for page_num in range(num_pages):\n",
        "        urls = scrape_google(query)\n",
        "\n",
        "        # Scrape individual pages\n",
        "        for url in urls:\n",
        "            parsed_url = urlparse(url)\n",
        "            if parsed_url.netloc:\n",
        "                data = scrape_individual_page(url)\n",
        "                all_data.append(data)\n",
        "\n",
        "    # Save the results to a document\n",
        "    with open(\"scraped_results.txt\", \"w\") as file:\n",
        "        for data in all_data:\n",
        "            file.write(f\"Title: {data['title']}\\n\\n\")\n",
        "            file.write(f\"Content: {data['content']}\\n\\n\\n\")\n",
        "\n",
        "    # Download the document\n",
        "    files.download(\"scraped_results.txt\")\n",
        "\n",
        "if __name__ == \"__main__\":\n",
        "    main()\n"
      ]
    },
    {
      "cell_type": "code",
      "source": [],
      "metadata": {
        "id": "ALv1WYuEFntN"
      },
      "execution_count": null,
      "outputs": []
    }
  ]
}